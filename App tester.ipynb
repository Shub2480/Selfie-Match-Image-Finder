{
 "cells": [
  {
   "cell_type": "code",
   "execution_count": 1,
   "id": "d8dcfe69",
   "metadata": {},
   "outputs": [
    {
     "name": "stdout",
     "output_type": "stream",
     "text": [
      "3.7.16 (default, Jan 17 2023, 16:06:28) [MSC v.1916 64 bit (AMD64)]\n"
     ]
    }
   ],
   "source": [
    "import sys\n",
    "print(sys.version)"
   ]
  },
  {
   "cell_type": "code",
   "execution_count": null,
   "id": "747aafca",
   "metadata": {},
   "outputs": [],
   "source": []
  },
  {
   "cell_type": "code",
   "execution_count": null,
   "id": "aa2b6aa2",
   "metadata": {},
   "outputs": [],
   "source": [
    "!pip install tensorflow==2.3.1\n",
    "!pip install keras_applications==1.0.8\n",
    "!pip install keras==2.4.3\n",
    "!pip install keras-vggface==0.6\n",
    "!pip install joblib\n",
    "!pip install matplotlib\n",
    "!pip install mtcnn\n",
    "!pip install scikit-learn"
   ]
  },
  {
   "cell_type": "code",
   "execution_count": null,
   "id": "21201f1c",
   "metadata": {},
   "outputs": [],
   "source": []
  },
  {
   "cell_type": "code",
   "execution_count": 46,
   "id": "c2f4d94a",
   "metadata": {},
   "outputs": [],
   "source": [
    "import os\n",
    "import joblib\n",
    "import cv2\n",
    "import numpy as np\n",
    "import matplotlib.pyplot as plt\n",
    "import mtcnn\n",
    "from keras_vggface.vggface import VGGFace\n",
    "from tensorflow.keras.preprocessing import image\n",
    "from keras_vggface.utils import preprocess_input"
   ]
  },
  {
   "cell_type": "code",
   "execution_count": null,
   "id": "0fbacb43",
   "metadata": {},
   "outputs": [],
   "source": []
  },
  {
   "cell_type": "code",
   "execution_count": 15,
   "id": "aa84cc77",
   "metadata": {},
   "outputs": [],
   "source": [
    "mtcnn_model=mtcnn.MTCNN()"
   ]
  },
  {
   "cell_type": "code",
   "execution_count": 31,
   "id": "dfff4101",
   "metadata": {},
   "outputs": [],
   "source": [
    "model=VGGFace(model='resnet50',include_top=False,input_shape=(224,224,3),pooling='avg')"
   ]
  },
  {
   "cell_type": "code",
   "execution_count": null,
   "id": "6f1ac455",
   "metadata": {},
   "outputs": [],
   "source": []
  },
  {
   "cell_type": "code",
   "execution_count": 38,
   "id": "0e638054",
   "metadata": {},
   "outputs": [],
   "source": [
    "\n",
    "def face_embbeder(img):\n",
    "    individual_face=[]\n",
    "    face_box=mtcnn_model.detect_faces(img)\n",
    "    \n",
    "    for i in range(len(face_box)):\n",
    "        x1,y1,w,h=face_box[i]['box']\n",
    "        cropped_face=img[y1:y1+h,x1:x1+w]\n",
    "        cropped_face=cv2.resize(cropped_face,(224,224))\n",
    "        cropped_face=image.img_to_array(cropped_face)\n",
    "        cropped_face=np.expand_dims(cropped_face,axis=0)\n",
    "        cropped_face=preprocess_input(cropped_face)\n",
    "        emb=model.predict(cropped_face)\n",
    "        individual_face.append(emb)\n",
    "        \n",
    "    return individual_face"
   ]
  },
  {
   "cell_type": "code",
   "execution_count": null,
   "id": "e15afbe3",
   "metadata": {},
   "outputs": [],
   "source": []
  },
  {
   "cell_type": "code",
   "execution_count": 42,
   "id": "106ec957",
   "metadata": {},
   "outputs": [],
   "source": [
    "faces_dict={}\n",
    "\n",
    "for i in os.listdir('images'):\n",
    "    img_name='images/'+i\n",
    "    img=cv2.imread(img_name)\n",
    "    faces_dict[img_name]=face_embbeder(img)"
   ]
  },
  {
   "cell_type": "code",
   "execution_count": null,
   "id": "98b54bb6",
   "metadata": {},
   "outputs": [],
   "source": []
  },
  {
   "cell_type": "code",
   "execution_count": 48,
   "id": "4275f04f",
   "metadata": {},
   "outputs": [],
   "source": [
    "file=open('faces_embedding','wb')\n",
    "joblib.dump(faces_dict,file)"
   ]
  },
  {
   "cell_type": "code",
   "execution_count": null,
   "id": "61cb125c",
   "metadata": {},
   "outputs": [],
   "source": []
  }
 ],
 "metadata": {
  "kernelspec": {
   "display_name": "Python 3 (ipykernel)",
   "language": "python",
   "name": "python3"
  },
  "language_info": {
   "codemirror_mode": {
    "name": "ipython",
    "version": 3
   },
   "file_extension": ".py",
   "mimetype": "text/x-python",
   "name": "python",
   "nbconvert_exporter": "python",
   "pygments_lexer": "ipython3",
   "version": "3.7.16"
  }
 },
 "nbformat": 4,
 "nbformat_minor": 5
}
